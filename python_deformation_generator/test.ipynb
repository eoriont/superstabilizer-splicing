{
 "cells": [
  {
   "cell_type": "code",
   "execution_count": 3,
   "id": "eaf9a8ac",
   "metadata": {},
   "outputs": [],
   "source": [
    "import stim\n",
    "from surface_general_defect import LogicalQubit"
   ]
  },
  {
   "cell_type": "code",
   "execution_count": 4,
   "id": "202410ff",
   "metadata": {},
   "outputs": [
    {
     "name": "stdout",
     "output_type": "stream",
     "text": [
      "New boundary: [[0, 5, 10, 15, 20], [4, 9, 14, 19, 24], [0, 1, 2, 3, 4], [20, 21, 22, 23, 24]]\n",
      "Move on to the interior defects\n",
      "List of deleted qubits due to boundary defects:\n",
      "[]\n",
      "Observable: [0, 5, 11, 17, 23]\n",
      "✅ Saved circuit to logical_qubit_circuit.stim (rounds=10, d=5)\n"
     ]
    }
   ],
   "source": [
    "try:\n",
    "    # Parameters (same as C++)\n",
    "    d = 5\n",
    "    readout_err = 0.001\n",
    "    gate1_err = 0.0005\n",
    "    gate2_err = 0.005\n",
    "    rounds = 10\n",
    "    missing_coords = []  # no missing coordinates\n",
    "    data_loss_tolerance = 0.25\n",
    "    verbose = True\n",
    "\n",
    "    # Construct logical qubit\n",
    "    logi = LogicalQubit(\n",
    "        d=d,\n",
    "        readout_err=readout_err,\n",
    "        gate1_err=gate1_err,\n",
    "        gate2_err=gate2_err,\n",
    "        missing_coords=missing_coords,\n",
    "        data_loss_tolerance=data_loss_tolerance,\n",
    "        verbose=verbose,\n",
    "    )\n",
    "\n",
    "    # Generate Stim circuit\n",
    "    circuit = logi.generate_stim(rounds)\n",
    "\n",
    "    # Save to file\n",
    "    filename = \"logical_qubit_circuit.stim\"\n",
    "    with open(filename, \"w\") as f:\n",
    "        f.write(str(circuit))\n",
    "\n",
    "    print(f\"✅ Saved circuit to {filename} (rounds={rounds}, d={d})\")\n",
    "\n",
    "except Exception as e:\n",
    "    print(f\"Error: {e}\")\n",
    "    exit(1)\n",
    "\n"
   ]
  }
 ],
 "metadata": {
  "kernelspec": {
   "display_name": "superstabilizer_splicing",
   "language": "python",
   "name": "python3"
  },
  "language_info": {
   "codemirror_mode": {
    "name": "ipython",
    "version": 3
   },
   "file_extension": ".py",
   "mimetype": "text/x-python",
   "name": "python",
   "nbconvert_exporter": "python",
   "pygments_lexer": "ipython3",
   "version": "3.11.13"
  }
 },
 "nbformat": 4,
 "nbformat_minor": 5
}
